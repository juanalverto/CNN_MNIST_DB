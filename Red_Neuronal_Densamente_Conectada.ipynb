{
  "nbformat": 4,
  "nbformat_minor": 0,
  "metadata": {
    "colab": {
      "name": "Red_Neuronal_Densamente_Conectada.ipynb",
      "provenance": [],
      "collapsed_sections": [],
      "include_colab_link": true
    },
    "kernelspec": {
      "name": "python3",
      "display_name": "Python 3"
    }
  },
  "cells": [
    {
      "cell_type": "markdown",
      "metadata": {
        "id": "view-in-github",
        "colab_type": "text"
      },
      "source": [
        "<a href=\"https://colab.research.google.com/github/juanalverto/CNN_MNIST_DB/blob/main/Red_Neuronal_Densamente_Conectada.ipynb\" target=\"_parent\"><img src=\"https://colab.research.google.com/assets/colab-badge.svg\" alt=\"Open In Colab\"/></a>"
      ]
    },
    {
      "cell_type": "code",
      "metadata": {
        "id": "dlaQbp7nAiN3",
        "outputId": "d2692e31-a10e-42fa-b9b5-f2a4072d1b49",
        "colab": {
          "base_uri": "https://localhost:8080/",
          "height": 34
        }
      },
      "source": [
        "from google.colab import drive\n",
        "drive.mount('/content/drive')"
      ],
      "execution_count": null,
      "outputs": [
        {
          "output_type": "stream",
          "text": [
            "Mounted at /content/drive\n"
          ],
          "name": "stdout"
        }
      ]
    },
    {
      "cell_type": "markdown",
      "metadata": {
        "id": "NUN3Mm_z_16P"
      },
      "source": [
        "# **Visualizar dígitos MNIST**"
      ]
    },
    {
      "cell_type": "code",
      "metadata": {
        "id": "Hd_zPuws-jcl"
      },
      "source": [
        "data_file = open('/content/drive/My Drive/MNIST_Classification/mnist_train_100.csv', 'r') #Abrimos el archivo en cuestión\n",
        "data_list = data_file.readlines() #Almacenamos en una lista la información de cada imagen\n",
        "data_file.close() #Cerramos el manejador de archivos que se utilizó previamente"
      ],
      "execution_count": null,
      "outputs": []
    },
    {
      "cell_type": "code",
      "metadata": {
        "id": "IbAtooNCA0pD",
        "outputId": "48a61093-f28c-4d1a-81b3-0fe05e62dfdf",
        "colab": {
          "base_uri": "https://localhost:8080/",
          "height": 34
        }
      },
      "source": [
        "len(data_list)"
      ],
      "execution_count": null,
      "outputs": [
        {
          "output_type": "execute_result",
          "data": {
            "text/plain": [
              "100"
            ]
          },
          "metadata": {
            "tags": []
          },
          "execution_count": 3
        }
      ]
    },
    {
      "cell_type": "code",
      "metadata": {
        "id": "WoicavTEA2Q8",
        "outputId": "167f9568-e0f0-471c-fff0-12951892ffc1",
        "colab": {
          "base_uri": "https://localhost:8080/",
          "height": 137
        }
      },
      "source": [
        "data_list[96]"
      ],
      "execution_count": null,
      "outputs": [
        {
          "output_type": "execute_result",
          "data": {
            "application/vnd.google.colaboratory.intrinsic+json": {
              "type": "string"
            },
            "text/plain": [
              "'7,0,0,0,0,0,0,0,0,0,0,0,0,0,0,0,0,0,0,0,0,0,0,0,0,0,0,0,0,0,0,0,0,0,0,0,0,0,0,0,0,0,0,0,0,0,0,0,0,0,0,0,0,0,0,0,0,0,0,0,0,0,0,0,0,0,0,0,0,0,0,0,0,0,0,0,0,0,0,0,0,0,0,0,0,0,0,0,0,0,0,0,0,0,0,0,0,0,0,0,0,0,0,0,0,0,0,0,0,0,0,0,0,0,0,0,0,0,0,0,0,0,0,0,0,0,0,0,0,0,0,0,0,0,0,0,0,0,0,0,0,0,0,0,0,0,0,0,0,0,0,0,0,0,0,0,0,0,0,0,0,0,0,0,0,0,0,0,0,0,0,0,0,0,0,0,0,0,0,0,0,0,0,0,0,0,0,0,0,0,0,0,0,0,0,0,0,0,0,0,0,0,0,0,0,0,0,0,0,0,7,67,141,205,255,255,153,0,0,0,0,0,0,0,0,0,0,0,0,0,0,0,0,0,0,45,57,121,188,253,253,254,253,253,253,0,0,0,0,0,0,0,0,0,0,0,0,0,0,0,0,111,198,241,253,254,253,253,215,179,253,253,165,0,0,0,0,0,0,0,0,0,0,0,0,0,0,0,0,242,253,253,253,191,116,28,16,79,253,253,40,0,0,0,0,0,0,0,0,0,0,0,0,0,0,0,0,64,114,114,13,0,0,0,0,142,254,207,13,0,0,0,0,0,0,0,0,0,0,0,0,0,0,0,0,0,0,0,0,0,0,0,26,217,253,143,0,0,0,0,0,0,0,0,0,0,0,0,0,0,0,0,0,0,0,0,0,0,0,0,151,254,234,37,0,0,0,0,0,0,0,0,0,0,0,0,0,0,0,0,0,0,0,0,0,0,0,0,226,254,197,0,0,0,0,0,0,0,0,0,0,0,0,0,0,0,0,0,0,0,0,0,0,0,0,48,242,252,75,0,0,0,0,0,0,0,0,0,0,0,0,0,0,0,0,0,0,0,0,0,0,0,0,160,253,201,0,0,0,0,0,0,0,0,0,0,0,0,0,0,0,0,0,0,0,0,0,0,0,0,45,241,253,114,0,0,0,0,0,0,0,0,0,0,0,0,0,0,0,0,0,0,0,0,0,0,0,0,57,253,253,114,0,0,0,0,0,0,0,0,0,0,0,0,0,0,0,0,0,0,0,0,0,0,0,4,180,254,242,0,0,0,0,0,0,0,0,0,0,0,0,0,0,0,0,0,0,0,0,0,0,0,0,54,253,253,116,0,0,0,0,0,0,0,0,0,0,0,0,0,0,0,0,0,0,0,0,0,0,0,0,141,253,253,28,0,0,0,0,0,0,0,0,0,0,0,0,0,0,0,0,0,0,0,0,0,0,0,0,141,253,177,3,0,0,0,0,0,0,0,0,0,0,0,0,0,0,0,0,0,0,0,0,0,0,0,0,205,254,56,0,0,0,0,0,0,0,0,0,0,0,0,0,0,0,0,0,0,0,0,0,0,0,0,26,254,253,81,0,0,0,0,0,0,0,0,0,0,0,0,0,0,0,0,0,0,0,0,0,0,0,0,25,254,253,235,22,0,0,0,0,0,0,0,0,0,0,0,0,0,0,0,0,0,0,0,0,0,0,0,0,204,228,103,3,0,0,0,0,0,0,0,0,0,0,0,0,0,0,0,0,0,0,0,0,0,0,0,0,0,0,0,0,0,0,0,0,0,0,0,0,0,0,0,0\\n'"
            ]
          },
          "metadata": {
            "tags": []
          },
          "execution_count": 4
        }
      ]
    },
    {
      "cell_type": "code",
      "metadata": {
        "id": "b_0Oy-VLAs9U",
        "outputId": "0368791e-8255-4181-bcb6-1bb6e6010d23",
        "colab": {
          "base_uri": "https://localhost:8080/",
          "height": 417
        }
      },
      "source": [
        "import numpy as np\n",
        "import matplotlib.pyplot\n",
        "from google.colab.patches import cv2_imshow\n",
        "import cv2 #openCV\n",
        "%matplotlib inline\n",
        "\n",
        "all_values = data_list[94].split(',') #Accedemos al dato 67 de la base de datos MNIST\n",
        "image_array = np.asfarray(all_values[1:]).reshape((28,28)) #La lista se convierte en un arreglo de 28 X 28 y los píxeles se convierten en floats\n",
        "#matplotlib.pyplot.imshow(image_array, cmap='Greys', interpolation='None') #Mostramos la imagen correspondiente\n",
        "image_array = cv2.resize(image_array, (400,400))\n",
        "cv2_imshow(image_array)"
      ],
      "execution_count": null,
      "outputs": [
        {
          "output_type": "display_data",
          "data": {
            "image/png": "[encoded data removed]",
            "text/plain": [
              "<PIL.Image.Image image mode=L size=400x400 at 0x7FCCC1F55780>"
            ]
          },
          "metadata": {
            "tags": []
          }
        }
      ]
    },
    {
      "cell_type": "markdown",
      "metadata": {
        "id": "qAHv3ytpDd0f"
      },
      "source": [
        "# **Implementación de red neuronal densamente conectada**"
      ]
    },
    {
      "cell_type": "code",
      "metadata": {
        "id": "25uFr4eTDdcU"
      },
      "source": [
        "#scipy.special importa la función sigmoide expit()\n",
        "import scipy.special"
      ],
      "execution_count": null,
      "outputs": []
    },
    {
      "cell_type": "code",
      "metadata": {
        "id": "fsRLYIq1DdcY"
      },
      "source": [
        "# definición de la clase neural network \n",
        "class neuralNetwork:\n",
        "    \n",
        "    # inicialización \n",
        "    def __init__(self, inputnodes, hiddennodes, outputnodes, learningrate):\n",
        "        # establecer número de neuronas en la capa de entrada, capa oculta y capa de salida\n",
        "        self.inodes = inputnodes\n",
        "        self.hnodes = hiddennodes\n",
        "        self.onodes = outputnodes\n",
        "        \n",
        "        # Matrices de los pesos y bias asociados a los enlaces\n",
        "        #self.wih = np.random.rand(self.hnodes, self.inodes) - 0.5 # filas simpre primer paramtero y columnas el segundo (de la matriz)\n",
        "        #self.who = np.random.rand(self.onodes, self.hnodes) - 0.5\n",
        "        #self.bih = np.random.rand(self.hnodes, 1) - 0.5\n",
        "        #self.bho = np.random.rand(self.onodes, 1) - 0.5\n",
        "        self.wih = np.random.normal(0.0, pow(self.inodes + 1, -0.5), (self.hnodes, self.inodes))\n",
        "        self.who = np.random.normal(0.0, pow(self.hnodes + 1, -0.5), (self.onodes, self.hnodes))\n",
        "        self.bih = np.random.normal(0.0, pow(self.inodes + 1, -0.5), (self.hnodes, 1))\n",
        "        self.bho = np.random.normal(0.0, pow(self.hnodes + 1, -0.5), (self.onodes, 1))\n",
        "\n",
        "        # tasa de aprendizaje\n",
        "        self.lr = learningrate\n",
        "        \n",
        "        # la función de activación es la función sigmoide\n",
        "        self.activation_function = lambda x: scipy.special.expit(x)\n",
        "        \n",
        "        pass\n",
        "\n",
        "    \n",
        "    # entrenamiento\n",
        "    def train(self, inputs_list, targets_list):\n",
        "        \n",
        "        # convertir las entradas en un arreglo 2d\n",
        "        inputs = np.array(inputs_list, ndmin=2).T\n",
        "        targets = np.array(targets_list, ndmin=2).T\n",
        "        \n",
        "        # calcular las señales que entran a la capa oculta\n",
        "        hidden_inputs = np.dot(self.wih, inputs) + self.bih\n",
        "        #calcular las señales que emergen de la capa oculta\n",
        "        hidden_outputs = self.activation_function(hidden_inputs)\n",
        "        \n",
        "        # calcular las señales que entran a la capa de salida\n",
        "        final_inputs = np.dot(self.who, hidden_outputs) + self.bho\n",
        "        # calcular las señales que emergen de la capa de salida\n",
        "        final_outputs = self.activation_function(final_inputs)\n",
        "        \n",
        "        # el error de la capa de salida es (target - actual)\n",
        "        output_errors = targets - final_outputs\n",
        "        # el error de la capa oculta está dado por los output_errors, divididos en los pesos y recombinados en las neuronas de la capa oculta\n",
        "        hidden_errors = np.dot(self.who.T, output_errors) \n",
        "        \n",
        "        # actualizar los pesos y bias para los enlaces entre la capa oculta y la capa de salida\n",
        "        self.who += self.lr * np.dot((output_errors * final_outputs * (1.0 - final_outputs)), np.transpose(hidden_outputs))\n",
        "        self.bho += self.lr * (output_errors * final_outputs * (1.0 - final_outputs))\n",
        "        \n",
        "        # actualizar los pesos y bias para los enlaces entre la capa de entrada y la capa de salida\n",
        "        self.wih += self.lr * np.dot((hidden_errors * hidden_outputs * (1.0 - hidden_outputs)), np.transpose(inputs))\n",
        "        self.bih += self.lr * (hidden_errors * hidden_outputs * (1.0 - hidden_outputs))\n",
        "\n",
        "        pass\n",
        "\n",
        "    \n",
        "    # probar la neural network\n",
        "    def query(self, inputs_list):\n",
        "        # convertir la lista de entrada en un arreglo 2d\n",
        "        inputs = np.array(inputs_list, ndmin=2).T\n",
        "        \n",
        "        # calcular las señales que llegan a la capa oculta\n",
        "        hidden_inputs = np.dot(self.wih, inputs) + self.bih\n",
        "        # calcular las señales que emergen de la capa oculta\n",
        "        hidden_outputs = self.activation_function(hidden_inputs)\n",
        "        \n",
        "        # calcular las señales que llegan a la capa de salida\n",
        "        final_inputs = np.dot(self.who, hidden_outputs) + self.bho\n",
        "        # calcular las señales que emergen de la capa de salida\n",
        "        final_outputs = self.activation_function(final_inputs)\n",
        "        \n",
        "        return final_outputs"
      ],
      "execution_count": null,
      "outputs": []
    },
    {
      "cell_type": "code",
      "metadata": {
        "id": "ThoOh-XbDdcc"
      },
      "source": [
        "# número de neuronas en la capa de entrada, en la capa oculta y en la capa de salida\n",
        "input_nodes = 784\n",
        "hidden_nodes = 100\n",
        "output_nodes = 10\n",
        "\n",
        "learning_rate = 0.1\n",
        "\n",
        "# instanciamos un objeto de la clase neural network\n",
        "n = neuralNetwork(input_nodes,hidden_nodes,output_nodes, learning_rate)"
      ],
      "execution_count": null,
      "outputs": []
    },
    {
      "cell_type": "code",
      "metadata": {
        "id": "wqngKq1aDdce"
      },
      "source": [
        "# cargar los datos de entrenamiento en una lista\n",
        "training_data_file = open('/content/drive/My Drive/MNIST_Classification/mnist_train.csv', 'r')\n",
        "training_data_list = training_data_file.readlines()\n",
        "training_data_file.close()"
      ],
      "execution_count": null,
      "outputs": []
    },
    {
      "cell_type": "code",
      "metadata": {
        "id": "qS13wdeCDdci"
      },
      "source": [
        "# entrenamiento de la red neuronal\n",
        "\n",
        "# epochs es el número de veces que el conjunto de entrenamiento es usado durante la fase de entrenamiento\n",
        "epochs = 5\n",
        "\n",
        "for e in range(epochs):\n",
        "    # iteramos en todos los registros del conjunto de entrenamiento\n",
        "    for record in training_data_list:\n",
        "        # usamos la coma ',' para separar los elementos de cada registro \n",
        "        all_values = record.split(',')\n",
        "        # normalizamos las entradas\n",
        "        inputs = (np.asfarray(all_values[1:]) / 255.0 * 0.99) + 0.01\n",
        "        # creamos un arreglo con los valores de salida (todos van a valer 0.01, excepto el valor deseado, que tendrá un valor de 0.99)\n",
        "        targets = np.zeros(output_nodes) + 0.01\n",
        "        # all_vaues[0] es la etiqueta del registro actual\n",
        "        targets[int(all_values[0])] = 0.99\n",
        "        n.train(inputs, targets)\n",
        "        pass\n",
        "    pass"
      ],
      "execution_count": null,
      "outputs": []
    },
    {
      "cell_type": "code",
      "metadata": {
        "id": "37RNOeEZDdcl"
      },
      "source": [
        "# cargar los datos de prueba en una lista\n",
        "test_data_file = open('/content/drive/My Drive/MNIST_Classification/mnist_test.csv', 'r')\n",
        "test_data_list = test_data_file.readlines()\n",
        "test_data_file.close()"
      ],
      "execution_count": null,
      "outputs": []
    },
    {
      "cell_type": "code",
      "metadata": {
        "id": "E5BtrkFVDdcn"
      },
      "source": [
        "# evaluar el desempeño de la red neuronal\n",
        "\n",
        "# la lista scorecard (inicialmente vacía) nos servirá para conocer el desempeño de la red neuronal\n",
        "scorecard = []\n",
        "\n",
        "# iteramos en todos los registros del conjunto de orueba\n",
        "for record in test_data_list:\n",
        "    # usamos la coma ',' para separar los elementos de cada registro \n",
        "    all_values = record.split(',')\n",
        "    # la respuesta correcta es el primer valor\n",
        "    correct_label = int(all_values[0])\n",
        "    # normalizamos las entradas\n",
        "    inputs = (np.asfarray(all_values[1:]) / 255.0 * 0.99) + 0.01\n",
        "    # probamos la red neuronal\n",
        "    outputs = n.query(inputs)\n",
        "    # el índice con el valor más alto corresponde al valor obtenido\n",
        "    label = np.argmax(outputs)\n",
        "    # agregamos el valor obtenido a la lista scorecard\n",
        "    if (label == correct_label):\n",
        "        # si la salida de la red neuronal es igual a la respuesta correcta, agregamos 1 a scorecard\n",
        "        scorecard.append(1)\n",
        "    else:\n",
        "        # si la salida de la red neuronal es diferente a la respuesta correcta, agregamos 1 a scorecard\n",
        "        scorecard.append(0)\n",
        "        pass\n",
        "    \n",
        "    pass"
      ],
      "execution_count": null,
      "outputs": []
    },
    {
      "cell_type": "code",
      "metadata": {
        "id": "7iopO7cPDdcr",
        "outputId": "052dcc67-d7b1-4c43-d020-19d38c23bec5",
        "colab": {
          "base_uri": "https://localhost:8080/",
          "height": 34
        }
      },
      "source": [
        "# calculamos la precisión en el reconocimiento, que es igual a la proporción de las respuestas correctas con respecto al número total de respuestas\n",
        "scorecard_array = np.asarray(scorecard)\n",
        "print (\"performance = \", scorecard_array.sum() / scorecard_array.size)"
      ],
      "execution_count": null,
      "outputs": [
        {
          "output_type": "stream",
          "text": [
            "performance =  0.9649\n"
          ],
          "name": "stdout"
        }
      ]
    },
    {
      "cell_type": "markdown",
      "metadata": {
        "id": "TlRWSEHLd09m"
      },
      "source": [
        "La implementación previa se tomó del libro \"Make your own neural network\", de Tariq Rashid. Asimismo, es importante aclarar que la implementación aquí presentada, contiene ligeras variaciones con respecto al código de la fuente previamente citada."
      ]
    }
  ]
}